{
 "cells": [
  {
   "cell_type": "code",
   "execution_count": 1,
   "metadata": {
    "collapsed": true
   },
   "outputs": [],
   "source": [
    "from config.config import config, update_config"
   ]
  },
  {
   "cell_type": "code",
   "execution_count": 2,
   "metadata": {
    "collapsed": true
   },
   "outputs": [],
   "source": [
    "update_config('./cfgs/detnet.yaml')"
   ]
  },
  {
   "cell_type": "code",
   "execution_count": 3,
   "metadata": {},
   "outputs": [
    {
     "data": {
      "text/plain": [
       "{'CLASS_AGNOSTIC': False,\n",
       " 'MXNET_VERSION': 'mxnet',\n",
       " 'SCALES': [(800, 1333)],\n",
       " 'TEST': {'BATCH_IMAGES': 1,\n",
       "  'CXX_PROPOSAL': False,\n",
       "  'HAS_RPN': True,\n",
       "  'NMS': 0.3,\n",
       "  'PROPOSAL_MIN_SIZE': 0,\n",
       "  'PROPOSAL_NMS_THRESH': 0.7,\n",
       "  'PROPOSAL_POST_NMS_TOP_N': 1000,\n",
       "  'PROPOSAL_PRE_NMS_TOP_N': 6000,\n",
       "  'RPN_MIN_SIZE': 0,\n",
       "  'RPN_NMS_THRESH': 0.7,\n",
       "  'RPN_POST_NMS_TOP_N': 1000,\n",
       "  'RPN_PRE_NMS_TOP_N': 6000,\n",
       "  'USE_SOFTNMS': False,\n",
       "  'max_per_image': 100,\n",
       "  'test_epoch': 7},\n",
       " 'TEST_SCALES': [[800, 1280]],\n",
       " 'TRAIN': {'ALTERNATE': {'RCNN_BATCH_IMAGES': 0,\n",
       "   'RPN_BATCH_IMAGES': 0,\n",
       "   'rfcn1_epoch': 0,\n",
       "   'rfcn1_lr': 0,\n",
       "   'rfcn1_lr_step': '',\n",
       "   'rfcn2_epoch': 0,\n",
       "   'rfcn2_lr': 0,\n",
       "   'rfcn2_lr_step': '',\n",
       "   'rpn1_epoch': 0,\n",
       "   'rpn1_lr': 0,\n",
       "   'rpn1_lr_step': '',\n",
       "   'rpn2_epoch': 0,\n",
       "   'rpn2_lr': 0,\n",
       "   'rpn2_lr_step': '',\n",
       "   'rpn3_epoch': 0,\n",
       "   'rpn3_lr': 0,\n",
       "   'rpn3_lr_step': ''},\n",
       "  'ASPECT_GROUPING': True,\n",
       "  'BATCH_IMAGES': 1,\n",
       "  'BATCH_ROIS': 128,\n",
       "  'BATCH_ROIS_OHEM': 512,\n",
       "  'BBOX_MEANS': [0.0, 0.0, 0.0, 0.0],\n",
       "  'BBOX_NORMALIZATION_PRECOMPUTED': True,\n",
       "  'BBOX_REGRESSION_THRESH': 0.5,\n",
       "  'BBOX_STDS': [0.1, 0.1, 0.2, 0.2],\n",
       "  'BBOX_WEIGHTS': array([1., 1., 1., 1.]),\n",
       "  'BG_THRESH_HI': 0.5,\n",
       "  'BG_THRESH_LO': 0.0,\n",
       "  'CXX_PROPOSAL': False,\n",
       "  'ENABLE_OHEM': False,\n",
       "  'END2END': True,\n",
       "  'FG_FRACTION': 0.25,\n",
       "  'FG_THRESH': 0.5,\n",
       "  'FLIP': True,\n",
       "  'RESUME': True,\n",
       "  'RPN_BATCH_SIZE': 256,\n",
       "  'RPN_BBOX_WEIGHTS': [1.0, 1.0, 1.0, 1.0],\n",
       "  'RPN_CLOBBER_POSITIVES': False,\n",
       "  'RPN_FG_FRACTION': 0.5,\n",
       "  'RPN_MIN_SIZE': 0,\n",
       "  'RPN_NEGATIVE_OVERLAP': 0.3,\n",
       "  'RPN_NMS_THRESH': 0.7,\n",
       "  'RPN_POSITIVE_OVERLAP': 0.7,\n",
       "  'RPN_POSITIVE_WEIGHT': -1.0,\n",
       "  'RPN_POST_NMS_TOP_N': 2000,\n",
       "  'RPN_PRE_NMS_TOP_N': 12000,\n",
       "  'SHUFFLE': True,\n",
       "  'begin_epoch': 5,\n",
       "  'end_epoch': 8,\n",
       "  'lr': 0.00125,\n",
       "  'lr_factor': 0.1,\n",
       "  'lr_step': '5,7',\n",
       "  'model_prefix': 'detnet_coco',\n",
       "  'momentum': 0.9,\n",
       "  'warmup': True,\n",
       "  'warmup_lr': 0.0005,\n",
       "  'warmup_step': 500,\n",
       "  'wd': 0.0001},\n",
       " 'dataset': {'NUM_CLASSES': 81,\n",
       "  'dataset': 'coco',\n",
       "  'dataset_path': './data/coco',\n",
       "  'image_set': 'train2014+valminusminival2014',\n",
       "  'proposal': 'detnet',\n",
       "  'root_path': './data',\n",
       "  'test_image_set': 'val2017'},\n",
       " 'default': {'frequent': 1, 'kvstore': 'device'},\n",
       " 'gpus': '3',\n",
       " 'network': {'ANCHOR_RATIOS': [0.5, 1, 2],\n",
       "  'ANCHOR_SCALES': [8, 8, 8, 16, 32],\n",
       "  'FIXED_PARAMS': ['gamma', 'beta'],\n",
       "  'FIXED_PARAMS_SHARED': ['gamma', 'beta'],\n",
       "  'IMAGE_STRIDE': 16,\n",
       "  'NUM_ANCHORS': 3,\n",
       "  'PIXEL_MEANS': array([103.06, 115.9 , 123.15]),\n",
       "  'RCNN_FEAT_STRIDE': 16,\n",
       "  'RPN_FEAT_STRIDE': [4, 8, 16, 16, 16],\n",
       "  'pretrained': '',\n",
       "  'pretrained_epoch': 0},\n",
       " 'output_path': './output/detnet/coco',\n",
       " 'symbol': 'detnet'}"
      ]
     },
     "execution_count": 3,
     "metadata": {},
     "output_type": "execute_result"
    }
   ],
   "source": [
    "config"
   ]
  },
  {
   "cell_type": "code",
   "execution_count": 5,
   "metadata": {},
   "outputs": [],
   "source": [
    "import sys\n",
    "sys.path.insert(0,'lib/')\n",
    "from symbols import detnet"
   ]
  },
  {
   "cell_type": "code",
   "execution_count": 7,
   "metadata": {},
   "outputs": [],
   "source": [
    "Detnet = detnet.detnet()"
   ]
  },
  {
   "cell_type": "code",
   "execution_count": 8,
   "metadata": {
    "collapsed": true
   },
   "outputs": [],
   "source": [
    "sym = Detnet.get_symbol(config, is_train = True)"
   ]
  },
  {
   "cell_type": "code",
   "execution_count": 17,
   "metadata": {},
   "outputs": [
    {
     "name": "stderr",
     "output_type": "stream",
     "text": [
      "/mnt/data-1/data/jiajie.tang/miniconda3/envs/gluon/lib/python3.6/site-packages/mxnet/visualization.py:249: UserWarning: Cannot decide shape for the following arguments (0s in shape means unknown dimensions). Consider providing them as input:\n",
      "\tgt_boxes: ()\n",
      "  _, out_shapes, _ = interals.infer_shape(**shape)\n"
     ]
    },
    {
     "ename": "ValueError",
     "evalue": "Input shape is incomplete",
     "output_type": "error",
     "traceback": [
      "\u001b[0;31m---------------------------------------------------------------------------\u001b[0m",
      "\u001b[0;31mValueError\u001b[0m                                Traceback (most recent call last)",
      "\u001b[0;32m<ipython-input-17-0450998e95d0>\u001b[0m in \u001b[0;36m<module>\u001b[0;34m()\u001b[0m\n\u001b[1;32m      1\u001b[0m \u001b[0;32mimport\u001b[0m \u001b[0mmxnet\u001b[0m \u001b[0;32mas\u001b[0m \u001b[0mmx\u001b[0m\u001b[0;34m\u001b[0m\u001b[0m\n\u001b[0;32m----> 2\u001b[0;31m \u001b[0ma\u001b[0m \u001b[0;34m=\u001b[0m \u001b[0mmx\u001b[0m\u001b[0;34m.\u001b[0m\u001b[0mviz\u001b[0m\u001b[0;34m.\u001b[0m\u001b[0mplot_network\u001b[0m\u001b[0;34m(\u001b[0m\u001b[0msym\u001b[0m\u001b[0;34m,\u001b[0m\u001b[0mshape\u001b[0m \u001b[0;34m=\u001b[0m \u001b[0;34m{\u001b[0m\u001b[0;34m'data'\u001b[0m\u001b[0;34m:\u001b[0m\u001b[0;34m(\u001b[0m\u001b[0;36m1\u001b[0m\u001b[0;34m,\u001b[0m\u001b[0;36m3\u001b[0m\u001b[0;34m,\u001b[0m\u001b[0;36m800\u001b[0m\u001b[0;34m,\u001b[0m\u001b[0;36m1024\u001b[0m\u001b[0;34m)\u001b[0m\u001b[0;34m,\u001b[0m\u001b[0;34m'im_info'\u001b[0m\u001b[0;34m:\u001b[0m\u001b[0;34m(\u001b[0m\u001b[0;36m1\u001b[0m\u001b[0;34m,\u001b[0m\u001b[0;36m3\u001b[0m\u001b[0;34m)\u001b[0m\u001b[0;34m}\u001b[0m\u001b[0;34m)\u001b[0m\u001b[0;34m\u001b[0m\u001b[0m\n\u001b[0m",
      "\u001b[0;32m/mnt/data-1/data/jiajie.tang/miniconda3/envs/gluon/lib/python3.6/site-packages/mxnet/visualization.py\u001b[0m in \u001b[0;36mplot_network\u001b[0;34m(symbol, title, save_format, shape, node_attrs, hide_weights)\u001b[0m\n\u001b[1;32m    249\u001b[0m         \u001b[0m_\u001b[0m\u001b[0;34m,\u001b[0m \u001b[0mout_shapes\u001b[0m\u001b[0;34m,\u001b[0m \u001b[0m_\u001b[0m \u001b[0;34m=\u001b[0m \u001b[0minterals\u001b[0m\u001b[0;34m.\u001b[0m\u001b[0minfer_shape\u001b[0m\u001b[0;34m(\u001b[0m\u001b[0;34m**\u001b[0m\u001b[0mshape\u001b[0m\u001b[0;34m)\u001b[0m\u001b[0;34m\u001b[0m\u001b[0m\n\u001b[1;32m    250\u001b[0m         \u001b[0;32mif\u001b[0m \u001b[0mout_shapes\u001b[0m \u001b[0;32mis\u001b[0m \u001b[0;32mNone\u001b[0m\u001b[0;34m:\u001b[0m\u001b[0;34m\u001b[0m\u001b[0m\n\u001b[0;32m--> 251\u001b[0;31m             \u001b[0;32mraise\u001b[0m \u001b[0mValueError\u001b[0m\u001b[0;34m(\u001b[0m\u001b[0;34m\"Input shape is incomplete\"\u001b[0m\u001b[0;34m)\u001b[0m\u001b[0;34m\u001b[0m\u001b[0m\n\u001b[0m\u001b[1;32m    252\u001b[0m         \u001b[0mshape_dict\u001b[0m \u001b[0;34m=\u001b[0m \u001b[0mdict\u001b[0m\u001b[0;34m(\u001b[0m\u001b[0mzip\u001b[0m\u001b[0;34m(\u001b[0m\u001b[0minterals\u001b[0m\u001b[0;34m.\u001b[0m\u001b[0mlist_outputs\u001b[0m\u001b[0;34m(\u001b[0m\u001b[0;34m)\u001b[0m\u001b[0;34m,\u001b[0m \u001b[0mout_shapes\u001b[0m\u001b[0;34m)\u001b[0m\u001b[0;34m)\u001b[0m\u001b[0;34m\u001b[0m\u001b[0m\n\u001b[1;32m    253\u001b[0m     \u001b[0mconf\u001b[0m \u001b[0;34m=\u001b[0m \u001b[0mjson\u001b[0m\u001b[0;34m.\u001b[0m\u001b[0mloads\u001b[0m\u001b[0;34m(\u001b[0m\u001b[0msymbol\u001b[0m\u001b[0;34m.\u001b[0m\u001b[0mtojson\u001b[0m\u001b[0;34m(\u001b[0m\u001b[0;34m)\u001b[0m\u001b[0;34m)\u001b[0m\u001b[0;34m\u001b[0m\u001b[0m\n",
      "\u001b[0;31mValueError\u001b[0m: Input shape is incomplete"
     ]
    }
   ],
   "source": [
    "import mxnet as mx\n",
    "a = mx.viz.plot_network(sym,shape = {'data':(1,3,800,1024),'im_info':(1,3)})"
   ]
  },
  {
   "cell_type": "code",
   "execution_count": 12,
   "metadata": {},
   "outputs": [
    {
     "ename": "TypeError",
     "evalue": "render() got an unexpected keyword argument 'shape'",
     "output_type": "error",
     "traceback": [
      "\u001b[0;31m---------------------------------------------------------------------------\u001b[0m",
      "\u001b[0;31mTypeError\u001b[0m                                 Traceback (most recent call last)",
      "\u001b[0;32m<ipython-input-12-55961b54b145>\u001b[0m in \u001b[0;36m<module>\u001b[0;34m()\u001b[0m\n\u001b[0;32m----> 1\u001b[0;31m \u001b[0ma\u001b[0m\u001b[0;34m.\u001b[0m\u001b[0mrender\u001b[0m\u001b[0;34m(\u001b[0m\u001b[0;34m'./detnet_sym'\u001b[0m\u001b[0;34m,\u001b[0m\u001b[0mshape\u001b[0m \u001b[0;34m=\u001b[0m \u001b[0;34m{\u001b[0m\u001b[0;34m'data'\u001b[0m\u001b[0;34m:\u001b[0m\u001b[0;34m(\u001b[0m\u001b[0;36m32\u001b[0m\u001b[0;34m,\u001b[0m\u001b[0;36m3\u001b[0m\u001b[0;34m,\u001b[0m\u001b[0;36m800\u001b[0m\u001b[0;34m,\u001b[0m\u001b[0;36m1024\u001b[0m\u001b[0;34m)\u001b[0m\u001b[0;34m}\u001b[0m\u001b[0;34m)\u001b[0m\u001b[0;34m\u001b[0m\u001b[0m\n\u001b[0m",
      "\u001b[0;31mTypeError\u001b[0m: render() got an unexpected keyword argument 'shape'"
     ]
    }
   ],
   "source": [
    "a.render('./detnet_sym')"
   ]
  },
  {
   "cell_type": "code",
   "execution_count": null,
   "metadata": {
    "collapsed": true
   },
   "outputs": [],
   "source": []
  }
 ],
 "metadata": {
  "kernelspec": {
   "display_name": "Python [conda env:gluon]",
   "language": "python",
   "name": "conda-env-gluon-py"
  },
  "language_info": {
   "codemirror_mode": {
    "name": "ipython",
    "version": 3
   },
   "file_extension": ".py",
   "mimetype": "text/x-python",
   "name": "python",
   "nbconvert_exporter": "python",
   "pygments_lexer": "ipython3",
   "version": "3.6.3"
  }
 },
 "nbformat": 4,
 "nbformat_minor": 2
}
